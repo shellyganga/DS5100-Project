{
 "cells": [
  {
   "cell_type": "markdown",
   "id": "45762487-d33f-486d-8e38-2cdea04e3528",
   "metadata": {},
   "source": [
    "# Final Project Report\n",
    "\n",
    "* Class: DS 5100\n",
    "* Student Name: Shelly Schwartz\n",
    "* Student Net ID: tfk6ua@virginia.edu\n",
    "* This URL: a URL to the notebook source of this document"
   ]
  },
  {
   "cell_type": "markdown",
   "id": "acf756c1-ecaa-41dc-b6ca-d566eb94560b",
   "metadata": {},
   "source": [
    "# Instructions\n",
    "\n",
    "Follow the instructions in the Final Project isntructions notebook and put evidence of your work in this notebook.\n",
    "\n",
    "Total points for each subsection under **Deliverables** and **Scenarios** are given in parentheses.\n",
    "\n",
    "Breakdowns of points within subsections are specified within subsection instructions as bulleted lists.\n",
    "\n",
    "This project is worth **50 points**."
   ]
  },
  {
   "cell_type": "markdown",
   "id": "89dc7a32-f682-4402-8c1e-b6ccdb3e0e39",
   "metadata": {},
   "source": [
    "# Deliverables"
   ]
  },
  {
   "cell_type": "markdown",
   "id": "d32cb273-9a40-4909-a7ce-51f6e4958d3c",
   "metadata": {},
   "source": [
    "## The Monte Carlo Module (10)\n",
    "\n",
    "- URL included, appropriately named (1).\n",
    "- Includes all three specified classes (3).\n",
    "- Includes at least all 12 specified methods (6; .5 each)."
   ]
  },
  {
   "cell_type": "markdown",
   "id": "f5f3b070-de9e-4de9-bfae-8974d184aa28",
   "metadata": {},
   "source": [
    "Put the URL to your GitHub repo here.\n",
    "\n",
    "Repo URL:"
   ]
  },
  {
   "cell_type": "markdown",
   "id": "162370fb-3729-4c85-b040-8c25b2c966d2",
   "metadata": {},
   "source": [
    "Paste a copyy of your module here.\n",
    "\n",
    "NOTE: Paste as text, not as code. Use triple backticks to wrap your code blocks. \n",
    "\n",
    "```\n",
    "import numpy as np\n",
    "import pandas as pd\n",
    "\n",
    "\n",
    "class Die:\n",
    "    \"\"\"\n",
    "    represents a single die, allowing for customizable faces and weights\n",
    "    \"\"\"\n",
    "\n",
    "    def __init__(self, faces):\n",
    "        \"\"\"\n",
    "        sets up a die with the given faces and default weights for each face.\n",
    "        the weights are set to 1.0 initially.\n",
    "\n",
    "        arguments:\n",
    "            faces: a numpy array containing unique face symbols, which can be numbers or strings\n",
    "\n",
    "        errors:\n",
    "            raises typeerror if the faces input is not a numpy array\n",
    "            raises valueerror if there are duplicate face values\n",
    "        \"\"\"\n",
    "        if not isinstance(faces, np.ndarray):\n",
    "            raise TypeError(\"faces must be provided as a numpy array\")\n",
    "\n",
    "        if len(set(faces)) != len(faces):\n",
    "            raise ValueError(\"all faces must be unique\")\n",
    "\n",
    "        self.faces = faces\n",
    "        self.weights = np.ones(len(faces), dtype=float)\n",
    "        # create a dataframe to store faces and their weights\n",
    "        self.die_state = pd.DataFrame({'Faces': self.faces, 'Weights': self.weights})\n",
    "        self.die_state.set_index('Faces', inplace=True)\n",
    "\n",
    "    def change_weight(self, face, new_weight):\n",
    "        \"\"\"\n",
    "        updates the weight of a specified face.\n",
    "\n",
    "        arguments:\n",
    "            face: the face whose weight is being updated\n",
    "            new_weight: the new weight value, which should be numeric (int or float)\n",
    "\n",
    "        errors:\n",
    "            raises indexerror if the face is not part of the die\n",
    "            raises typeerror if the weight is not a valid numeric type\n",
    "        \"\"\"\n",
    "        if face not in self.die_state.index:\n",
    "            raise IndexError(\"the face does not exist in this die\")\n",
    "\n",
    "        try:\n",
    "            new_weight = float(new_weight)\n",
    "        except ValueError:\n",
    "            raise TypeError(\"weight must be a number\")\n",
    "\n",
    "        # assign the new weight to the specified face\n",
    "        self.die_state.loc[face, 'Weights'] = new_weight\n",
    "\n",
    "    def roll(self, num_rolls=1):\n",
    "        \"\"\"\n",
    "        rolls the die the specified number of times and returns the results.\n",
    "\n",
    "        arguments:\n",
    "            num_rolls: how many times to roll the die. defaults to 1.\n",
    "\n",
    "        returns:\n",
    "            a list of face values based on the roll results\n",
    "        \"\"\"\n",
    "        outcomes = self.die_state.sample(\n",
    "            n=num_rolls,\n",
    "            weights=self.die_state['Weights'],\n",
    "            replace=True\n",
    "        )\n",
    "        return list(outcomes.index)\n",
    "\n",
    "    def get_state(self):\n",
    "        \"\"\"\n",
    "        shows the current state of the die, including faces and weights\n",
    "\n",
    "        returns:\n",
    "            a dataframe copy with faces and their associated weights\n",
    "        \"\"\"\n",
    "        return self.die_state.copy()\n",
    "\n",
    "\n",
    "\n",
    "class Game:\n",
    "    \"\"\"\n",
    "    handles rolling multiple dice together, simulating a game\n",
    "    \"\"\"\n",
    "\n",
    "    def __init__(self, dice):\n",
    "        \"\"\"\n",
    "        sets up the game with a collection of dice\n",
    "\n",
    "        arguments:\n",
    "            dice: a list containing multiple die objects\n",
    "        \"\"\"\n",
    "        self.dice = dice\n",
    "        self.results = None\n",
    "\n",
    "    def play(self, num_rolls):\n",
    "        \"\"\"\n",
    "        rolls all dice in the game a specified number of times\n",
    "\n",
    "        arguments:\n",
    "            num_rolls: how many times each die should be rolled\n",
    "\n",
    "        stores:\n",
    "            the results in a private dataframe in wide format, where rows\n",
    "            represent roll numbers and columns represent dice\n",
    "        \"\"\"\n",
    "        roll_results = {}\n",
    "        for i, die in enumerate(self.dice):\n",
    "            roll_results[i] = die.roll(num_rolls)\n",
    "        self.results = pd.DataFrame(roll_results)\n",
    "\n",
    "    def get_recent_play(self, form='wide'):\n",
    "        \"\"\"\n",
    "        retrieves the results of the most recent play\n",
    "\n",
    "        arguments:\n",
    "            form: the format of the output, either 'wide' (default) or 'narrow'\n",
    "\n",
    "        returns:\n",
    "            a dataframe in the specified format\n",
    "\n",
    "        errors:\n",
    "            raises valueerror if the requested format is not valid\n",
    "        \"\"\"\n",
    "        if self.results is None:\n",
    "            raise ValueError(\"no results to show. play the game first\")\n",
    "\n",
    "        if form == 'wide':\n",
    "            return self.results.copy()\n",
    "        elif form == 'narrow':\n",
    "            narrow_results = self.results.melt(var_name='Die', value_name='Outcome')\n",
    "            return narrow_results\n",
    "        else:\n",
    "            raise ValueError(\"invalid format. use 'wide' or 'narrow'\")\n",
    "\n",
    "\n",
    "class Analyzer:\n",
    "    \"\"\"\n",
    "    provides tools for analyzing the results of a game\n",
    "    \"\"\"\n",
    "\n",
    "    def __init__(self, game):\n",
    "        \"\"\"\n",
    "        links the analyzer to a game and fetches its results\n",
    "\n",
    "        arguments:\n",
    "            game: a game object to analyze\n",
    "\n",
    "        errors:\n",
    "            raises valueerror if the input is not a game object\n",
    "            raises valueerror if the game has no results to analyze\n",
    "        \"\"\"\n",
    "        if not isinstance(game, Game):\n",
    "            raise ValueError(\"input must be a game object\")\n",
    "        if game.results is None:\n",
    "            raise ValueError(\"the game has no results to analyze\")\n",
    "\n",
    "        self.results = game.get_recent_play()\n",
    "\n",
    "    def jackpot(self):\n",
    "        \"\"\"\n",
    "        counts how many rolls have all dice showing the same face\n",
    "\n",
    "        returns:\n",
    "            an integer representing the number of jackpots\n",
    "        \"\"\"\n",
    "        jackpots = 0\n",
    "        for _, row in self.results.iterrows():\n",
    "            if len(set(row)) == 1:\n",
    "                jackpots += 1\n",
    "        return jackpots\n",
    "\n",
    "    def face_counts_per_roll(self):\n",
    "        \"\"\"\n",
    "        calculates how often each face appears in each roll\n",
    "\n",
    "        returns:\n",
    "            a dataframe where rows are roll numbers and columns are face counts\n",
    "        \"\"\"\n",
    "        counts = self.results.apply(pd.Series.value_counts, axis=1).fillna(0)\n",
    "        return counts\n",
    "\n",
    "    def combo_count(self):\n",
    "        \"\"\"\n",
    "        calculates unique combinations of faces rolled, ignoring order\n",
    "\n",
    "        returns:\n",
    "            a dataframe with combinations and their frequencies\n",
    "        \"\"\"\n",
    "        combinations = self.results.apply(lambda row: tuple(sorted(row)), axis=1)\n",
    "        combo_counts = combinations.value_counts()\n",
    "        combo_df = pd.DataFrame({'Combination': combo_counts.index, 'Frequency': combo_counts.values})\n",
    "        return combo_df\n",
    "\n",
    "    def permutation_count(self):\n",
    "        \"\"\"\n",
    "        calculates unique permutations of faces rolled, considering order\n",
    "\n",
    "        returns:\n",
    "            a dataframe with permutations and their frequencies\n",
    "        \"\"\"\n",
    "        permutations = self.results.apply(tuple, axis=1)\n",
    "        permutation_counts = permutations.value_counts()\n",
    "        permutation_df = pd.DataFrame({'Permutation': permutation_counts.index, 'Frequency': permutation_counts.values})\n",
    "        return permutation_df\n",
    "```"
   ]
  },
  {
   "cell_type": "markdown",
   "id": "6377727a-8f0a-491e-9f1c-d9dc225edd35",
   "metadata": {},
   "source": [
    "## Unitest Module (2)\n",
    "\n",
    "Paste a copy of your test module below.\n",
    "\n",
    "NOTE: Paste as text, not as code. Use triple backticks to wrap your code blocks.\n",
    "\n",
    "- All methods have at least one test method (1).\n",
    "- Each method employs one of Unittest's Assert methods (1).\n",
    "\n",
    "```\n",
    "import unittest\n",
    "import numpy as np\n",
    "import pandas as pd\n",
    "from package_folder.package.montecarlo import Die, Analyzer, Game\n",
    "\n",
    "\n",
    "class TestDie(unittest.TestCase):\n",
    "    \"\"\"\n",
    "    tests for the die class\n",
    "    \"\"\"\n",
    "\n",
    "    def setUp(self):\n",
    "        # create a die with faces 1 to 6\n",
    "        self.die = Die(np.array([1, 2, 3, 4, 5, 6]))\n",
    "\n",
    "    def test_init(self):\n",
    "        # test that the die is initialized correctly\n",
    "        self.assertEqual(len(self.die.faces), 6)\n",
    "        self.assertTrue(all(weight == 1.0 for weight in self.die.weights))\n",
    "        # test error when duplicate faces are provided\n",
    "        with self.assertRaises(ValueError):\n",
    "            Die(np.array([1, 2, 2, 3]))\n",
    "\n",
    "    def test_change_weight(self):\n",
    "        # test changing the weight of a face\n",
    "        self.die.change_weight(3, 5.0)\n",
    "        self.assertEqual(self.die.die_state.loc[3, 'Weights'], 5.0)\n",
    "        # test another face\n",
    "        self.die.change_weight(1, 2.0)\n",
    "        self.assertEqual(self.die.die_state.loc[1, 'Weights'], 2.0)\n",
    "        # test invalid face\n",
    "        with self.assertRaises(IndexError):\n",
    "            self.die.change_weight(7, 2.0)\n",
    "        # test invalid weight type\n",
    "        with self.assertRaises(TypeError):\n",
    "            self.die.change_weight(3, \"invalid\")\n",
    "\n",
    "    def test_roll(self):\n",
    "        # test rolling the die\n",
    "        rolls = self.die.roll(10)\n",
    "        self.assertEqual(len(rolls), 10)\n",
    "        self.assertTrue(all(face in self.die.faces for face in rolls))\n",
    "        # make one face heavily weighted and test rolls\n",
    "        self.die.change_weight(6, 10)\n",
    "        weighted_rolls = self.die.roll(100)\n",
    "        self.assertGreater(weighted_rolls.count(6), 50)  # most rolls should be 6\n",
    "\n",
    "    def test_get_state(self):\n",
    "        # test getting the current state of the die\n",
    "        state = self.die.get_state()\n",
    "        self.assertIsInstance(state, pd.DataFrame)\n",
    "        self.assertEqual(len(state), 6)\n",
    "\n",
    "\n",
    "class TestGame(unittest.TestCase):\n",
    "    \"\"\"\n",
    "    tests for the game class\n",
    "    \"\"\"\n",
    "\n",
    "    def setUp(self):\n",
    "        # create a game with two dice\n",
    "        die1 = Die(np.array([1, 2, 3]))\n",
    "        die2 = Die(np.array([4, 5, 6]))\n",
    "        self.game = Game([die1, die2])\n",
    "\n",
    "    def test_init(self):\n",
    "        # test that the game initializes correctly with dice\n",
    "        self.assertEqual(len(self.game.dice), 2)\n",
    "\n",
    "    def test_play(self):\n",
    "        # test playing the game\n",
    "        self.game.play(10)\n",
    "        self.assertEqual(len(self.game.results), 10)\n",
    "        # validate specific outcomes\n",
    "        die1 = Die(np.array([1, 2]))\n",
    "        die1.change_weight(2, 5)\n",
    "        game = Game([die1])\n",
    "        game.play(20)\n",
    "        results = game.get_recent_play('wide')\n",
    "        self.assertGreater(len(results[0][results[0] == 2]), 10)  # more rolls should show face 2\n",
    "\n",
    "    def test_get_recent_play(self):\n",
    "        # test getting play results in wide format\n",
    "        self.game.play(5)\n",
    "        wide_results = self.game.get_recent_play('wide')\n",
    "        self.assertIsInstance(wide_results, pd.DataFrame)\n",
    "        self.assertEqual(wide_results.shape[0], 5)\n",
    "        # test narrow format\n",
    "        narrow_results = self.game.get_recent_play('narrow')\n",
    "        self.assertIsInstance(narrow_results, pd.DataFrame)\n",
    "        self.assertGreater(narrow_results.shape[0], 5)\n",
    "        # test invalid format\n",
    "        with self.assertRaises(ValueError):\n",
    "            self.game.get_recent_play('invalid')\n",
    "\n",
    "\n",
    "class TestAnalyzer(unittest.TestCase):\n",
    "    \"\"\"\n",
    "    tests for the analyzer class\n",
    "    \"\"\"\n",
    "\n",
    "    def setUp(self):\n",
    "        # create a game and analyzer\n",
    "        die1 = Die(np.array([1, 2, 3]))\n",
    "        die2 = Die(np.array([1, 2, 3]))\n",
    "        game = Game([die1, die2])\n",
    "        game.play(10)\n",
    "        self.analyzer = Analyzer(game)\n",
    "\n",
    "    def test_init(self):\n",
    "        # test analyzer initialization\n",
    "        self.assertIsInstance(self.analyzer.results, pd.DataFrame)\n",
    "        self.assertEqual(len(self.analyzer.results), 10)\n",
    "        # test invalid initialization\n",
    "        with self.assertRaises(ValueError):\n",
    "            Analyzer(\"invalid_game\")\n",
    "\n",
    "    def test_jackpot(self):\n",
    "        mock_results = pd.DataFrame({\n",
    "            0: [1, 1, 1, 1, 1],  # Die 1 results\n",
    "            1: [1, 1, 1, 1, 1],  # Die 2 results\n",
    "        })\n",
    "        self.analyzer.results = mock_results  # Override self.results\n",
    "\n",
    "        # Expected jackpot count\n",
    "        expected_jackpots = 5\n",
    "\n",
    "        # Call the jackpot method and verify the result\n",
    "        actual_jackpots = self.analyzer.jackpot()\n",
    "\n",
    "        self.assertEqual(actual_jackpots, expected_jackpots)\n",
    "\n",
    "    def test_face_counts_per_roll(self):\n",
    "        counts = self.analyzer.face_counts_per_roll()\n",
    "        self.assertIsInstance(counts, pd.DataFrame)\n",
    "        self.assertEqual(counts.shape[0], 10)  # 10 rolls\n",
    "        # test specific face counts\n",
    "        self.assertTrue((counts.sum(axis=1) == 2).all())  # each roll involves 2 dice\n",
    "\n",
    "    def test_combo_count(self):\n",
    "        # Mock deterministic game results\n",
    "        mock_results = pd.DataFrame({\n",
    "            0: [1, 1, 2, 3, 2],  # Die 1 results\n",
    "            1: [1, 2, 2, 3, 3],  # Die 2 results\n",
    "        })\n",
    "        self.analyzer.results = mock_results  # Override self.results\n",
    "\n",
    "        # Expected combinations (ignoring order)\n",
    "        expected_combos = {\n",
    "            (1, 1): 1,  # Appears once\n",
    "            (1, 2): 1,\n",
    "            (2, 2): 1,\n",
    "            (3, 3): 1,\n",
    "            (2, 3): 1,\n",
    "        }\n",
    "\n",
    "        combos = self.analyzer.combo_count()\n",
    "\n",
    "        for combo, freq in expected_combos.items():\n",
    "            self.assertIn(combo, combos['Combination'].tolist())\n",
    "            self.assertEqual(\n",
    "                combos.loc[combos['Combination'] == combo, 'Frequency'].values[0],\n",
    "                freq\n",
    "            )\n",
    "\n",
    "        # Ensure no unexpected combinations are present\n",
    "        actual_combos = set(combos['Combination'].tolist())\n",
    "        self.assertEqual(set(expected_combos.keys()), actual_combos)\n",
    "\n",
    "    def test_permutation_count(self):\n",
    "\n",
    "        # Mock deterministic game results\n",
    "        mock_results = pd.DataFrame({\n",
    "            0: [1, 1, 2, 3, 2],  # Die 1 results\n",
    "            1: [1, 2, 2, 3, 3],  # Die 2 results\n",
    "        })\n",
    "        self.analyzer.results = mock_results  # Override self.results\n",
    "\n",
    "        # Expected permutations (considering order)\n",
    "        expected_permutations = {\n",
    "            (1, 1): 1,  # Appears once\n",
    "            (1, 2): 1,\n",
    "            (2, 2): 1,\n",
    "            (3, 3): 1,\n",
    "            (2, 3): 1,\n",
    "        }\n",
    "\n",
    "        permutations = self.analyzer.permutation_count()\n",
    "\n",
    "        for perm, freq in expected_permutations.items():\n",
    "            self.assertIn(perm, permutations['Permutation'].tolist())\n",
    "            self.assertEqual(\n",
    "                permutations.loc[permutations['Permutation'] == perm, 'Frequency'].values[0],\n",
    "                freq\n",
    "            )\n",
    "\n",
    "        # Ensure no unexpected permutations are present\n",
    "        actual_permutations = set(permutations['Permutation'].tolist())\n",
    "        self.assertEqual(set(expected_permutations.keys()), actual_permutations)\n",
    "\n",
    "\n",
    "if __name__ == '__main__':\n",
    "    unittest.main()\n",
    "```"
   ]
  },
  {
   "cell_type": "markdown",
   "id": "3e058d03-29bc-408f-b36d-0605b4f4b8c0",
   "metadata": {
    "tags": []
   },
   "source": [
    "## Unittest Results (3)\n",
    "\n",
    "Put a copy of the results of running your tests from the command line here.\n",
    "\n",
    "Again, paste as text using triple backticks.\n",
    "\n",
    "- All 12 specified methods return OK (3; .25 each)."
   ]
  },
  {
   "cell_type": "raw",
   "id": "54691fd0-836c-43c7-adc9-4a09d8aa9ab2",
   "metadata": {
    "tags": []
   },
   "source": [
    "# A text block with the output of a successful test.\n",
    "............\n",
    "----------------------------------------------------------------------\n",
    "Ran 12 tests in 0.069s\n",
    "\n",
    "OK\n",
    "<unittest.runner.TextTestResult run=12 errors=0 failures=0>"
   ]
  },
  {
   "cell_type": "markdown",
   "id": "d9ffe8c5-eb2f-4ad1-af76-a46550e4c7ac",
   "metadata": {},
   "source": [
    "## Import (1)\n",
    "\n",
    "Import your module here. This import should refer to the code in your package directory.\n",
    "\n",
    "- Module successuflly imported (1)."
   ]
  },
  {
   "cell_type": "code",
   "execution_count": 70,
   "id": "a05dffb3-e6d6-4f78-9df4-5abd0cf74ca9",
   "metadata": {
    "tags": []
   },
   "outputs": [],
   "source": [
    "# e.g. import montecarlo.montecarlo "
   ]
  },
  {
   "cell_type": "markdown",
   "id": "f30c4842-65b1-4556-98b6-3fe1a07e1371",
   "metadata": {},
   "source": [
    "## Help Docs (4)\n",
    "\n",
    "Show your docstring documentation by applying `help()` to your imported module.\n",
    "\n",
    "- All methods have a docstring (3; .25 each).\n",
    "- All classes have a docstring (1; .33 each)."
   ]
  },
  {
   "cell_type": "code",
   "execution_count": 71,
   "id": "bf4fbf1f-9885-471c-a0a6-e9ca90e160de",
   "metadata": {
    "tags": []
   },
   "outputs": [],
   "source": [
    "# help(montecarlo)"
   ]
  },
  {
   "cell_type": "markdown",
   "id": "a9defa84-b395-4966-bd1c-5c6c2bb7ed68",
   "metadata": {},
   "source": [
    "## `README.md` File (3)\n",
    "\n",
    "Provide link to the README.md file of your project's repo.\n",
    "\n",
    "- Metadata section or info present (1).\n",
    "- Synopsis section showing how each class is called (1). (All must be included.)\n",
    "- API section listing all classes and methods (1). (All must be included.)"
   ]
  },
  {
   "cell_type": "markdown",
   "id": "ee090b33-d593-48a0-bf35-e739cea0942c",
   "metadata": {},
   "source": [
    "URL:"
   ]
  },
  {
   "cell_type": "markdown",
   "id": "108604c8-8827-42ef-ab59-6b25428fc0ca",
   "metadata": {},
   "source": [
    "## Successful installation (2)\n",
    "\n",
    "Put a screenshot or paste a copy of a terminal session where you successfully install your module with pip.\n",
    "\n",
    "If pasting text, use a preformatted text block to show the results.\n",
    "\n",
    "- Installed with `pip` (1).\n",
    "- Successfully installed message appears (1)."
   ]
  },
  {
   "cell_type": "raw",
   "id": "1278db6a-aa53-4e5c-a749-93a87ab239e0",
   "metadata": {},
   "source": [
    "# Pasted code"
   ]
  },
  {
   "cell_type": "markdown",
   "id": "7c44695d-d1b3-4edf-9f94-e64d7446f199",
   "metadata": {},
   "source": [
    "# Scenarios\n",
    "\n",
    "Use code blocks to perform the tasks for each scenario.\n",
    "\n",
    "Be sure the outputs are visible before submitting."
   ]
  },
  {
   "cell_type": "markdown",
   "id": "e2479eae-6fc9-44cd-b8d7-9b22cb501f2a",
   "metadata": {
    "tags": []
   },
   "source": [
    "## Scenario 1: A 2-headed Coin (9)\n",
    "\n",
    "Task 1. Create a fair coin (with faces $H$ and $T$) and one unfair coin in which one of the faces has a weight of $5$ and the others $1$.\n",
    "\n",
    "- Fair coin created (1).\n",
    "- Unfair coin created with weight as specified (1)."
   ]
  },
  {
   "cell_type": "code",
   "execution_count": 72,
   "id": "55ce498e-c75f-4425-9e3e-b635bd6cd9e1",
   "metadata": {},
   "outputs": [
    {
     "name": "stdout",
     "output_type": "stream",
     "text": [
      "Fair Coin State:\n",
      "       Weights\n",
      "Faces         \n",
      "H          1.0\n",
      "T          1.0\n",
      "Unfair Coin State:\n",
      "       Weights\n",
      "Faces         \n",
      "H          5.0\n",
      "T          1.0\n"
     ]
    }
   ],
   "source": [
    "fair_coin = Die(np.array(['H', 'T']))\n",
    "\n",
    "unfair_coin = Die(np.array(['H', 'T']))\n",
    "unfair_coin.change_weight('H', 5)\n",
    "unfair_coin.change_weight('T', 1)\n",
    "\n",
    "print(\"Fair Coin State:\")\n",
    "print(fair_coin.get_state())\n",
    "\n",
    "print(\"Unfair Coin State:\")\n",
    "print(unfair_coin.get_state())"
   ]
  },
  {
   "cell_type": "markdown",
   "id": "02b272ab-99da-4b6e-ac2a-555b73e09c07",
   "metadata": {},
   "source": [
    "Task 2. Play a game of $1000$ flips with two fair dice.\n",
    "\n",
    "- Play method called correclty and without error (1)."
   ]
  },
  {
   "cell_type": "code",
   "execution_count": 73,
   "id": "65c92601-d32d-4326-b215-74953aee27f2",
   "metadata": {},
   "outputs": [
    {
     "name": "stdout",
     "output_type": "stream",
     "text": [
      "     0  1\n",
      "0    T  H\n",
      "1    T  H\n",
      "2    H  T\n",
      "3    H  H\n",
      "4    H  H\n",
      "..  .. ..\n",
      "995  T  H\n",
      "996  H  T\n",
      "997  H  H\n",
      "998  H  T\n",
      "999  H  T\n",
      "\n",
      "[1000 rows x 2 columns]\n"
     ]
    }
   ],
   "source": [
    "\n",
    "fair_die1 = Die(np.array(['H', 'T']))\n",
    "fair_die2 = Die(np.array(['H', 'T']))\n",
    "\n",
    "game_fair = Game([fair_die1, fair_die2])\n",
    "\n",
    "\n",
    "game_fair.play(1000)\n",
    "\n",
    "print(game_fair.get_recent_play('wide'))\n"
   ]
  },
  {
   "cell_type": "markdown",
   "id": "7d9c3dc8-22c1-4cae-81fb-d68d774a05d1",
   "metadata": {},
   "source": [
    "Task 3. Play another game (using a new Game object) of $1000$ flips, this time using two unfair dice and one fair die. For the second unfair die, you can use the same die object twice in the list of dice you pass to the Game object.\n",
    "\n",
    "- New game object created (1).\n",
    "- Play method called correclty and without error (1)."
   ]
  },
  {
   "cell_type": "code",
   "execution_count": 74,
   "id": "d4098bed-1eb2-4084-8d5e-9fda07c3be43",
   "metadata": {},
   "outputs": [
    {
     "name": "stdout",
     "output_type": "stream",
     "text": [
      "     0  1  2\n",
      "0    H  T  T\n",
      "1    H  H  H\n",
      "2    H  H  T\n",
      "3    H  T  H\n",
      "4    H  H  T\n",
      "..  .. .. ..\n",
      "995  H  H  T\n",
      "996  H  H  T\n",
      "997  H  H  T\n",
      "998  H  H  H\n",
      "999  H  H  T\n",
      "\n",
      "[1000 rows x 3 columns]\n"
     ]
    }
   ],
   "source": [
    "unfair_die1 = Die(np.array(['H', 'T']))\n",
    "unfair_die1.change_weight('H', 5)\n",
    "unfair_die1.change_weight('T', 1)\n",
    "\n",
    "\n",
    "game_mixed = Game([unfair_die1, unfair_die1, fair_die1])\n",
    "\n",
    "\n",
    "game_mixed.play(1000)\n",
    "\n",
    "print(game_mixed.get_recent_play('wide'))"
   ]
  },
  {
   "cell_type": "markdown",
   "id": "f690ebfc-fe71-4eb2-976d-7ac80ca6c23f",
   "metadata": {},
   "source": [
    "Task 4. For each game, use an Analyzer object to determine the raw frequency of jackpots — i.e. getting either all $H$s or all $T$s.\n",
    "\n",
    "- Analyzer objecs instantiated for both games (1).\n",
    "- Raw frequencies reported for both (1)."
   ]
  },
  {
   "cell_type": "code",
   "execution_count": 75,
   "id": "b26b8b7e-3be7-4476-a9a4-37d97536729e",
   "metadata": {},
   "outputs": [
    {
     "name": "stdout",
     "output_type": "stream",
     "text": [
      "raw frequency of jackpots (two fair dice): 503\n",
      "raw frequency of jackpots (two unfair dice, one fair die): 348\n"
     ]
    }
   ],
   "source": [
    "\n",
    "analyzer_fair = Analyzer(game_fair)\n",
    "analyzer_mixed = Analyzer(game_mixed)\n",
    "\n",
    "\n",
    "jackpot_fair = analyzer_fair.jackpot()\n",
    "jackpot_mixed = analyzer_mixed.jackpot()\n",
    "\n",
    "print(f\"raw frequency of jackpots (two fair dice): {jackpot_fair}\")\n",
    "print(f\"raw frequency of jackpots (two unfair dice, one fair die): {jackpot_mixed}\")\n"
   ]
  },
  {
   "cell_type": "markdown",
   "id": "b73d233c-445e-40cd-8858-0c5e1f097105",
   "metadata": {},
   "source": [
    "Task 5. For each analyzer, compute relative frequency as the number of jackpots over the total number of rolls.\n",
    "\n",
    "- Both relative frequencies computed (1)."
   ]
  },
  {
   "cell_type": "code",
   "execution_count": 76,
   "id": "9a96b31b-1b9d-496e-be3e-4bf83c45ec3a",
   "metadata": {},
   "outputs": [
    {
     "name": "stdout",
     "output_type": "stream",
     "text": [
      "relative frequency of jackpots (two fair dice): 0.503\n",
      "relative frequency of jackpots (two unfair dice, one fair die): 0.348\n"
     ]
    }
   ],
   "source": [
    "print(f\"relative frequency of jackpots (two fair dice): {jackpot_fair/1000}\")\n",
    "print(f\"relative frequency of jackpots (two unfair dice, one fair die): {jackpot_mixed/1000}\")\n"
   ]
  },
  {
   "cell_type": "markdown",
   "id": "a6e1e734-7f5c-4721-8ba4-2f3a424cf984",
   "metadata": {},
   "source": [
    "Task 6. Show your results, comparing the two relative frequencies, in a simple bar chart.\n",
    "\n",
    "- Bar chart plotted and correct (1)."
   ]
  },
  {
   "cell_type": "code",
   "execution_count": 77,
   "id": "473fa67c-aa53-4aa3-a0b7-e8772b3f6ed3",
   "metadata": {},
   "outputs": [
    {
     "data": {
      "image/png": "[encoded data removed]",
      "text/plain": [
       "<Figure size 640x480 with 1 Axes>"
      ]
     },
     "metadata": {},
     "output_type": "display_data"
    }
   ],
   "source": [
    "import matplotlib.pyplot as plt\n",
    "\n",
    "plt.bar(['Two Fair Dice', 'Two Unfair, One Fair Die'], [jackpot_fair/1000, jackpot_mixed/1000])\n",
    "plt.ylabel('Relative Frequency of Jackpots')\n",
    "plt.title('Comparison of Jackpot Frequencies')\n",
    "plt.show()\n"
   ]
  },
  {
   "cell_type": "markdown",
   "id": "725cfa5b-e4b7-47c9-86aa-8d9e1fe6c8c7",
   "metadata": {},
   "source": [
    "## Scenario 2: A 6-sided Die (9)\n",
    "\n",
    "Task 1. Create three dice, each with six sides having the faces 1 through 6.\n",
    "\n",
    "- Three die objects created (1)."
   ]
  },
  {
   "cell_type": "code",
   "execution_count": 67,
   "id": "6a8bc611-325a-4e05-88d5-980e0a2cf7c5",
   "metadata": {},
   "outputs": [
    {
     "name": "stdout",
     "output_type": "stream",
     "text": [
      "       Weights\n",
      "Faces         \n",
      "1          1.0\n",
      "2          1.0\n",
      "3          1.0\n",
      "4          1.0\n",
      "5          1.0\n",
      "6          1.0\n",
      "       Weights\n",
      "Faces         \n",
      "1          1.0\n",
      "2          1.0\n",
      "3          1.0\n",
      "4          1.0\n",
      "5          1.0\n",
      "6          1.0\n",
      "       Weights\n",
      "Faces         \n",
      "1          1.0\n",
      "2          1.0\n",
      "3          1.0\n",
      "4          1.0\n",
      "5          1.0\n",
      "6          1.0\n"
     ]
    }
   ],
   "source": [
    "die1 = Die(np.array([1, 2, 3, 4, 5, 6]))\n",
    "die2 = Die(np.array([1, 2, 3, 4, 5, 6]))\n",
    "die3 = Die(np.array([1, 2, 3, 4, 5, 6]))\n",
    "\n",
    "print(die1.get_state())\n",
    "print(die2.get_state())\n",
    "print(die3.get_state())"
   ]
  },
  {
   "cell_type": "markdown",
   "id": "2ed3ad26-fbe9-43bd-9ad7-f683a4191d12",
   "metadata": {},
   "source": [
    "Task 2. Convert one of the dice to an unfair one by weighting the face $6$ five times more than the other weights (i.e. it has weight of 5 and the others a weight of 1 each).\n",
    "\n",
    "- Unfair die created with proper call to weight change method (1)."
   ]
  },
  {
   "cell_type": "code",
   "execution_count": 81,
   "id": "e33dd18f-7f90-456d-a680-61c08a328e21",
   "metadata": {
    "scrolled": true
   },
   "outputs": [
    {
     "name": "stdout",
     "output_type": "stream",
     "text": [
      "       Weights\n",
      "Faces         \n",
      "1          1.0\n",
      "2          1.0\n",
      "3          1.0\n",
      "4          1.0\n",
      "5          1.0\n",
      "6          5.0\n"
     ]
    }
   ],
   "source": [
    "die1.change_weight(6, 5)\n",
    "print(die1.get_state())"
   ]
  },
  {
   "cell_type": "markdown",
   "id": "7f6c062a-4c5b-45b9-96b8-76a0354c7e47",
   "metadata": {},
   "source": [
    "Task 3. Convert another of the dice to be unfair by weighting the face $1$ five times more than the others.\n",
    "\n",
    "- Unfair die created with proper call to weight change method (1)."
   ]
  },
  {
   "cell_type": "code",
   "execution_count": 82,
   "id": "01133a4e-6b06-4246-8d90-8e6d6995be51",
   "metadata": {},
   "outputs": [
    {
     "name": "stdout",
     "output_type": "stream",
     "text": [
      "       Weights\n",
      "Faces         \n",
      "1          5.0\n",
      "2          1.0\n",
      "3          1.0\n",
      "4          1.0\n",
      "5          1.0\n",
      "6          1.0\n"
     ]
    }
   ],
   "source": [
    "die2.change_weight(1, 5)\n",
    "print(die2.get_state())"
   ]
  },
  {
   "cell_type": "markdown",
   "id": "f0ed31cb-0a3c-4eb2-b85e-6ed6b2eb6e58",
   "metadata": {},
   "source": [
    "Task 4. Play a game of $10000$ rolls with $5$ fair dice.\n",
    "\n",
    "- Game class properly instantiated (1). \n",
    "- Play method called properly (1)."
   ]
  },
  {
   "cell_type": "code",
   "execution_count": 83,
   "id": "e92395a4-9ed8-4cb0-8c85-38768a784ffc",
   "metadata": {},
   "outputs": [
    {
     "name": "stdout",
     "output_type": "stream",
     "text": [
      "      0  1  2  3  4\n",
      "0     3  6  2  5  5\n",
      "1     5  1  1  4  1\n",
      "2     1  1  4  6  3\n",
      "3     2  5  5  3  2\n",
      "4     5  5  1  6  2\n",
      "...  .. .. .. .. ..\n",
      "9995  1  2  4  6  5\n",
      "9996  2  6  5  3  5\n",
      "9997  4  5  5  6  5\n",
      "9998  4  2  2  6  4\n",
      "9999  4  6  4  2  6\n",
      "\n",
      "[10000 rows x 5 columns]\n"
     ]
    }
   ],
   "source": [
    "fair_dice = [Die(np.array([1, 2, 3, 4, 5, 6])) for _ in range(5)]\n",
    "fair_game = Game(fair_dice)\n",
    "fair_game.play(10000)\n",
    "print(fair_game.get_recent_play('wide'))"
   ]
  },
  {
   "cell_type": "markdown",
   "id": "7814b402-46a4-40e5-8141-20e05c3e646b",
   "metadata": {},
   "source": [
    "Task 5. Play another game of $10000$ rolls, this time with $2$ unfair dice, one as defined in steps #2 and #3 respectively, and $3$ fair dice.\n",
    "\n",
    "- Game class properly instantiated (1). \n",
    "- Play method called properly (1)."
   ]
  },
  {
   "cell_type": "code",
   "execution_count": 86,
   "id": "7cd58fba-b2a5-4d5d-bc6d-2a7a68d18c4f",
   "metadata": {},
   "outputs": [
    {
     "name": "stdout",
     "output_type": "stream",
     "text": [
      "      0  1  2  3  4\n",
      "0     6  2  1  4  1\n",
      "1     4  1  5  1  1\n",
      "2     6  1  2  2  4\n",
      "3     6  1  3  5  5\n",
      "4     6  1  4  5  4\n",
      "...  .. .. .. .. ..\n",
      "9995  4  1  1  6  1\n",
      "9996  1  1  2  2  5\n",
      "9997  1  1  5  1  2\n",
      "9998  5  5  6  4  5\n",
      "9999  1  1  3  4  4\n",
      "\n",
      "[10000 rows x 5 columns]\n"
     ]
    }
   ],
   "source": [
    "mixed_dice = [die1, die2] + [Die(np.array([1, 2, 3, 4, 5, 6])) for _ in range(3)]\n",
    "\n",
    "mixed_game = Game(mixed_dice)\n",
    "mixed_game.play(10000)\n",
    "print(mixed_game.get_recent_play('wide'))"
   ]
  },
  {
   "cell_type": "markdown",
   "id": "7b6cd372-2bb8-4df8-ade1-8f48bc300955",
   "metadata": {},
   "source": [
    "Task 6. For each game, use an Analyzer object to determine the relative frequency of jackpots and show your results, comparing the two relative frequencies, in a simple bar chart.\n",
    "\n",
    "- Jackpot methods called (1).\n",
    "- Graph produced (1)."
   ]
  },
  {
   "cell_type": "code",
   "execution_count": 87,
   "id": "bbdcf695-8937-406e-9b53-aa0b9ee3c59a",
   "metadata": {},
   "outputs": [
    {
     "data": {
      "image/png": "[encoded data removed]",
      "text/plain": [
       "<Figure size 640x480 with 1 Axes>"
      ]
     },
     "metadata": {},
     "output_type": "display_data"
    }
   ],
   "source": [
    "import matplotlib.pyplot as plt\n",
    "\n",
    "# jackpot frequencies for the fair game\n",
    "fair_analyzer = Analyzer(fair_game)\n",
    "fair_jackpots = fair_analyzer.jackpot()\n",
    "fair_jackpot_frequency = fair_jackpots / 10000\n",
    "\n",
    "#jackpot frequencies for the mixed game\n",
    "mixed_analyzer = Analyzer(mixed_game)\n",
    "mixed_jackpots = mixed_analyzer.jackpot()\n",
    "mixed_jackpot_frequency = mixed_jackpots / 10000\n",
    "\n",
    "labels = ['Fair Dice', 'Mixed Dice']\n",
    "frequencies = [fair_jackpot_frequency, mixed_jackpot_frequency]\n",
    "\n",
    "plt.bar(labels, frequencies)\n",
    "plt.title('Relative Frequencies of Jackpots')\n",
    "plt.ylabel('Frequency')\n",
    "plt.xlabel('Game Type')\n",
    "plt.show()"
   ]
  },
  {
   "cell_type": "markdown",
   "id": "9f04e9be-8fcf-4ea4-a391-6614608285f8",
   "metadata": {},
   "source": [
    "## Scenario 3: Letters of the Alphabet (7)\n",
    "\n",
    "Task 1. Create a \"die\" of letters from $A$ to $Z$ with weights based on their frequency of usage as found in the data file `english_letters.txt`. Use the frequencies (i.e. raw counts) as weights.\n",
    "\n",
    "- Die correctly instantiated with source file data (1).\n",
    "- Weights properly applied using weight setting method (1)."
   ]
  },
  {
   "cell_type": "code",
   "execution_count": 102,
   "id": "b0ceb771-3cdf-4d8f-8c2c-020806bbb909",
   "metadata": {},
   "outputs": [
    {
     "name": "stdout",
     "output_type": "stream",
     "text": [
      "  Letter       Freq\n",
      "0      E  529117365\n",
      "1      T  390965105\n",
      "2      A  374061888\n",
      "3      O  326627740\n",
      "4      I  320410057\n",
      "['AA', 'AAH', 'AAHED', 'AAHING', 'AAHS', 'AAL', 'AALII', 'AALIIS', 'AALS', 'AARDVARK']\n",
      "<__main__.Die object at 0x12bbb2cc0>\n"
     ]
    },
    {
     "name": "stderr",
     "output_type": "stream",
     "text": [
      "<>:4: SyntaxWarning: invalid escape sequence '\\s'\n",
      "<>:4: SyntaxWarning: invalid escape sequence '\\s'\n",
      "/var/folders/71/qtpx6s7s7hjcgr3rb45grv1r0000gn/T/ipykernel_19667/393286473.py:4: SyntaxWarning: invalid escape sequence '\\s'\n",
      "  letter_dat = pd.read_csv(\"english_letters.txt\", header=None, sep='\\s+', names=[\"Letter\", \"Freq\"])\n"
     ]
    }
   ],
   "source": [
    "import pandas as pd\n",
    "\n",
    "\n",
    "letter_dat = pd.read_csv(\"english_letters.txt\", header=None, sep='\\s+', names=[\"Letter\", \"Freq\"])\n",
    "print(letter_dat.head()) \n",
    "\n",
    "\n",
    "with open(\"scrabble_words.txt\", \"r\") as file:\n",
    "    scrabble_words_dat = [line.strip().upper() for line in file]\n",
    "\n",
    "\n",
    "print(scrabble_words_dat[:10])\n",
    "\n",
    "letters_die = Die(letter_dat[\"Letter\"].values)\n",
    "for i in range(len(letter_dat)):\n",
    "    letters_die.change_weight(letter_dat[\"Letter\"].iloc[i], letter_dat[\"Freq\"].iloc[i])\n"
   ]
  },
  {
   "cell_type": "markdown",
   "id": "88e2e14a-6223-470a-a2c8-bca1120d7a5b",
   "metadata": {},
   "source": [
    "Task 2. Play a game involving $4$ of these dice with $1000$ rolls.\n",
    "\n",
    "- Game play method properly called (1)."
   ]
  },
  {
   "cell_type": "code",
   "execution_count": 142,
   "id": "2ae087cc-936d-4f1e-bddb-a7c179d139e0",
   "metadata": {},
   "outputs": [],
   "source": [
    "dice_game_dat = [letters_die, letters_die, letters_die, letters_die]\n",
    "game = Game(dice_game_dat)\n",
    "game.play(1000)\n",
    "results = game.get_recent_play('wide')"
   ]
  },
  {
   "cell_type": "markdown",
   "id": "3b9ff800-bf1f-4f66-9d7f-ff57a648e9f0",
   "metadata": {},
   "source": [
    "Task 3. Determine how many permutations in your results are actual English words, based on the vocabulary found in `scrabble_words.txt`.\n",
    "\n",
    "- Use permutation method (1).\n",
    "- Get count as difference between permutations and vocabulary (1)."
   ]
  },
  {
   "cell_type": "code",
   "execution_count": 143,
   "id": "ed1c7fa0-cfa3-4cf4-9fd0-9f84b86b0f64",
   "metadata": {},
   "outputs": [
    {
     "name": "stdout",
     "output_type": "stream",
     "text": [
      "995\n",
      "48\n"
     ]
    }
   ],
   "source": [
    "analyzer = Analyzer(game)\n",
    "permutations_dat = analyzer.permutation_count()\n",
    "valid_words = 0\n",
    "for perm in permutations_dat[\"Permutation\"]:\n",
    "    word = \"\".join(perm)  \n",
    "    if word in scrabble_words_dat: \n",
    "        valid_words += 1  \n",
    "print(len(permutations_dat))\n",
    "print(valid_words)"
   ]
  },
  {
   "cell_type": "markdown",
   "id": "fcf068cf-381a-4b3e-ac3a-0510eb4dbdb0",
   "metadata": {},
   "source": [
    "Task 4. Repeat steps #2 and #3, this time with $5$ dice. How many actual words does this produce? Which produces more?\n",
    "\n",
    "- Successfully repreats steps (1).\n",
    "- Identifies parameter with most found words (1)."
   ]
  },
  {
   "cell_type": "code",
   "execution_count": null,
   "id": "7fadc6e7-6543-455a-a67e-c0a7ccb1659b",
   "metadata": {},
   "outputs": [],
   "source": [
    "dice_5 = [letters_die for _ in range(5)]\n",
    "game_5 = Game(dice_5)\n",
    "game_5.play(1000)\n",
    "results = game_5.get_recent_play('wide')\n",
    "\n",
    "analyzer_5 = Analyzer(game_5)\n",
    "permutations_5 = analyzer_5.permutation_count()\n",
    "valid_words_5 = 0\n",
    "for perm in permutations_5[\"Permutation\"]:\n",
    "    word = \"\".join(perm)  \n",
    "    if word in scrabble_words_dat: \n",
    "        valid_words_5 += 1  \n",
    "\n",
    "print(len(permutations_5))\n",
    "print(valid_words_5)"
   ]
  },
  {
   "cell_type": "markdown",
   "id": "164a89c8-e735-4aba-a5b0-ed03f999b74e",
   "metadata": {},
   "source": [
    "Using fewer dice (4 dice) produces more valid English words than 5 dice because shorter sequences have a higher chance of matching valid words in the Scrabble dictionary."
   ]
  },
  {
   "cell_type": "code",
   "execution_count": null,
   "id": "f0bcd0b4-b324-499b-a228-c6bc6eb8ee0e",
   "metadata": {},
   "outputs": [],
   "source": []
  }
 ],
 "metadata": {
  "kernelspec": {
   "display_name": "Python 3 (ipykernel)",
   "language": "python",
   "name": "python3"
  },
  "language_info": {
   "codemirror_mode": {
    "name": "ipython",
    "version": 3
   },
   "file_extension": ".py",
   "mimetype": "text/x-python",
   "name": "python",
   "nbconvert_exporter": "python",
   "pygments_lexer": "ipython3",
   "version": "3.12.3"
  },
  "toc-autonumbering": true,
  "widgets": {
   "application/vnd.jupyter.widget-state+json": {
    "state": {},
    "version_major": 2,
    "version_minor": 0
   }
  }
 },
 "nbformat": 4,
 "nbformat_minor": 5
}
